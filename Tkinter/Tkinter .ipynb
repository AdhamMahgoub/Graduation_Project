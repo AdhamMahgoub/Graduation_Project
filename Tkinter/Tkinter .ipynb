{
 "cells": [
  {
   "cell_type": "code",
   "execution_count": null,
   "id": "87973b4f",
   "metadata": {},
   "outputs": [],
   "source": [
    "import tkinter as tk\n",
    "\n",
    "root = tk.Tk()\n",
    "\n",
    "# Set the window size to half the original size\n",
    "root.geometry(\"250x250\")\n",
    "\n",
    "# Create the price and weight labels with larger font size\n",
    "price_label = tk.Label(root, text=\"Total Price: $100\", font=(\"Arial\", 20))\n",
    "weight_label = tk.Label(root, text=\"Weight: 10 kg\", font=(\"Arial\", 20))\n",
    "\n",
    "# Pack the weight label at the top\n",
    "weight_label.pack(side=\"top\")\n",
    "\n",
    "# Place the price label at the bottom right\n",
    "price_label.place(relx=1.0, rely=1.0, anchor=\"se\")\n",
    "\n",
    "# Start the Tkinter main loop\n",
    "root.mainloop()\n"
   ]
  },
  {
   "cell_type": "code",
   "execution_count": null,
   "id": "ecf0ec18",
   "metadata": {},
   "outputs": [],
   "source": []
  }
 ],
 "metadata": {
  "kernelspec": {
   "display_name": "Python 3 (ipykernel)",
   "language": "python",
   "name": "python3"
  },
  "language_info": {
   "codemirror_mode": {
    "name": "ipython",
    "version": 3
   },
   "file_extension": ".py",
   "mimetype": "text/x-python",
   "name": "python",
   "nbconvert_exporter": "python",
   "pygments_lexer": "ipython3",
   "version": "3.9.6"
  }
 },
 "nbformat": 4,
 "nbformat_minor": 5
}
