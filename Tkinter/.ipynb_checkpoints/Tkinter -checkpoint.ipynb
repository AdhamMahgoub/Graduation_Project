{
 "cells": [
  {
   "cell_type": "code",
   "execution_count": null,
   "id": "87973b4f",
   "metadata": {},
   "outputs": [],
   "source": [
    "import tkinter as tk\n",
    "\n",
    "root = tk.Tk()\n",
    "root.geometry(\"400x300\")  # set the window size to 400x300\n",
    "root.title(\"Value Display\")\n",
    "\n",
    "x = 0\n",
    "y = 0\n",
    "z = 0\n",
    "\n",
    "x_label = tk.Label(root, text=\"X: \" + str(x), font=(\"Arial\", 24))\n",
    "x_label.pack()\n",
    "\n",
    "y_label = tk.Label(root, text=\"Y: \" + str(y), font=(\"Arial\", 24))\n",
    "y_label.pack()\n",
    "\n",
    "z_label = tk.Label(root, text=\"Z: \" + str(z), font=(\"Arial\", 24))\n",
    "z_label.pack()\n",
    "\n",
    "root.mainloop()\n"
   ]
  },
  {
   "cell_type": "code",
   "execution_count": null,
   "id": "ecf0ec18",
   "metadata": {},
   "outputs": [],
   "source": []
  }
 ],
 "metadata": {
  "kernelspec": {
   "display_name": "Python 3 (ipykernel)",
   "language": "python",
   "name": "python3"
  },
  "language_info": {
   "codemirror_mode": {
    "name": "ipython",
    "version": 3
   },
   "file_extension": ".py",
   "mimetype": "text/x-python",
   "name": "python",
   "nbconvert_exporter": "python",
   "pygments_lexer": "ipython3",
   "version": "3.9.6"
  }
 },
 "nbformat": 4,
 "nbformat_minor": 5
}
