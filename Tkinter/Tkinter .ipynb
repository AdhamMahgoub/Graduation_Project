{
 "cells": [
  {
   "cell_type": "code",
   "execution_count": null,
   "id": "87973b4f",
   "metadata": {},
   "outputs": [],
   "source": [
    "import tkinter as tk\n",
    "\n",
    "root = tk.Tk()\n",
    "root.geometry(\"250x250\")\n",
    "\n",
    "# Read the values from .txt files\n",
    "with open(\"product.txt\", \"r\") as file:\n",
    "    product = file.read().strip()\n",
    "\n",
    "with open(\"price.txt\", \"r\") as file:\n",
    "    price = float(file.read().strip())\n",
    "\n",
    "with open(\"weight.txt\", \"r\") as file:\n",
    "    weight_measured = int(file.read().strip())\n",
    "\n",
    "# Create the labels with the read values\n",
    "product_label = tk.Label(root, text=\"Product: {}\".format(product), font=(\"Arial\", 20))\n",
    "price_label = tk.Label(root, text=\"Total Price: ${:.2f}\".format(price), font=(\"Arial\", 20))\n",
    "weight_label = tk.Label(root, text=\"Weight: {} kg\".format(weight_measured), font=(\"Arial\", 20))\n",
    "\n",
    "product_label.pack(side=\"top\")\n",
    "weight_label.pack()\n",
    "price_label.pack(side=\"bottom\", anchor=\"se\")\n",
    "\n",
    "root.mainloop()\n"
   ]
  },
  {
   "cell_type": "code",
   "execution_count": null,
   "id": "ecf0ec18",
   "metadata": {},
   "outputs": [],
   "source": []
  },
  {
   "cell_type": "code",
   "execution_count": null,
   "id": "5f0e8e92",
   "metadata": {},
   "outputs": [],
   "source": []
  },
  {
   "cell_type": "code",
   "execution_count": null,
   "id": "eab67912",
   "metadata": {},
   "outputs": [],
   "source": []
  }
 ],
 "metadata": {
  "kernelspec": {
   "display_name": "Python 3 (ipykernel)",
   "language": "python",
   "name": "python3"
  },
  "language_info": {
   "codemirror_mode": {
    "name": "ipython",
    "version": 3
   },
   "file_extension": ".py",
   "mimetype": "text/x-python",
   "name": "python",
   "nbconvert_exporter": "python",
   "pygments_lexer": "ipython3",
   "version": "3.9.6"
  }
 },
 "nbformat": 4,
 "nbformat_minor": 5
}
